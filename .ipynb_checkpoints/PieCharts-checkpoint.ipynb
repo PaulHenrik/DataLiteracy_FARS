{
 "cells": [
  {
   "cell_type": "code",
   "execution_count": 1,
   "id": "d2270dc2",
   "metadata": {},
   "outputs": [],
   "source": [
    "import pandas as pd\n",
    "import numpy as np\n",
    "import matplotlib.pyplot as plt\n",
    "import chardet\n",
    "import datetime\n",
    "import os\n",
    "from tueplots import bundles\n",
    "from tueplots.constants.color import rgb\n",
    "import sklearn as sk\n",
    "from sklearn.decomposition import PCA\n",
    "import seaborn as sns\n",
    "import dload\n",
    "import geopandas as gpd\n",
    "from shapely.geometry import Point, Polygon\n",
    "\n",
    "#plt.rcParams.update(bundles.beamer_moml())\n",
    "#plt.rcParams.update({\"figure.dpi\": 200})\n"
   ]
  },
  {
   "cell_type": "code",
   "execution_count": null,
   "id": "9b14bd02",
   "metadata": {},
   "outputs": [],
   "source": [
    "accidents = pd.read_csv('FARS2021NationalCSV/accident.csv',encoding='WINDOWS-1252',low_memory=False)\n"
   ]
  }
 ],
 "metadata": {
  "kernelspec": {
   "display_name": "Python 3 (ipykernel)",
   "language": "python",
   "name": "python3"
  },
  "language_info": {
   "codemirror_mode": {
    "name": "ipython",
    "version": 3
   },
   "file_extension": ".py",
   "mimetype": "text/x-python",
   "name": "python",
   "nbconvert_exporter": "python",
   "pygments_lexer": "ipython3",
   "version": "3.10.12"
  }
 },
 "nbformat": 4,
 "nbformat_minor": 5
}
